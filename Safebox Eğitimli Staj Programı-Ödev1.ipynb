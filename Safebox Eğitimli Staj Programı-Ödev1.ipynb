{
 "cells": [
  {
   "cell_type": "code",
   "execution_count": null,
   "metadata": {},
   "outputs": [],
   "source": [
    "def kullanici_kayit():\n",
    "    kullanici_bilgi = {}\n",
    "    kullanici_adi = input(\"Kullanici adını girin\")\n",
    "    kullanici_sifre = input(\"Kullanici sifresini girin\")\n",
    "    kullanici_bilgi[\"kullanici_adi\"]=kullanici_adi\n",
    "    kullanici_bilgi[\"kullanici_sifre\"]=kullanici_sifre\n",
    "    with open(\"kullanici_bilgileri.txt\",\"a\") as f:\n",
    "        f.write(kullanici_bilgi[\"kullanici_adi\"]+\",\"+kullanici_bilgi[\"kullanici_sifre\"]+\"\\n\")\n",
    "    print(\"kullanıcı kayıt edildi\")\n",
    "\n",
    "def giris():\n",
    "    kullanici_adi = input(\"Kullanıcı adını girin: \")\n",
    "    kullanici_sifre = input(\"Şifrenizi girin: \")\n",
    "\n",
    "    with open(\"kullanici_bilgileri.txt\", \"r\") as f:\n",
    "        for line in f:\n",
    "            bilgiler = line.strip().split(\",\")\n",
    "            kayitli_kullanici_adi = bilgiler[0]\n",
    "            kayitli_kullanici_sifre = bilgiler[1]\n",
    "\n",
    "            if kullanici_adi == kayitli_kullanici_adi and kullanici_sifre == kayitli_kullanici_sifre:\n",
    "                print(\"Giriş başarılı!\")\n",
    "                return\n",
    "\n",
    "        print(\"Hatalı kullanıcı adı veya şifre!\")\n",
    "\n",
    "# Diğer kod bloğu devam ediyor...\n",
    "\n",
    "\n",
    "\n",
    "while True:\n",
    "    secim = int(input(\"1-Kayıt,2-Giriş,3-Çıkış\"))\n",
    "    \n",
    "    if secim == 1:\n",
    "        kullanici_kayit()\n",
    "\n",
    "    elif secim == 2:\n",
    "        giris()\n",
    "    elif secim == 3:\n",
    "        print(\"Çıkış yapılıyor\")\n",
    "        break\n",
    "    else:\n",
    "        print(\"Yanlış seçim yaptınız\")"
   ]
  }
 ],
 "metadata": {
  "language_info": {
   "name": "python"
  },
  "orig_nbformat": 4
 },
 "nbformat": 4,
 "nbformat_minor": 2
}
